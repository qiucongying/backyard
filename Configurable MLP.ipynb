{
 "cells": [
  {
   "cell_type": "code",
   "execution_count": 4,
   "metadata": {
    "scrolled": true
   },
   "outputs": [],
   "source": [
    "import keras\n",
    "import tensorflow as tf\n",
    "import numpy as np\n",
    "\n",
    "from keras.models import Sequential\n",
    "from keras.layers import Dense, Activation"
   ]
  },
  {
   "cell_type": "code",
   "execution_count": 23,
   "metadata": {},
   "outputs": [],
   "source": [
    "def createSequentialModel(unitNumberList, input_dim, out_dim, activation=None):\n",
    "    \n",
    "    '''\n",
    "    Create the sequenctial model by simply put in the number of units and \n",
    "    \n",
    "    '''\n",
    "    model = Sequential()\n",
    "    \n",
    "    # deal with activation\n",
    "    def act(activation=None, index=None):\n",
    "        if activation:\n",
    "            if not index and type(activation) == str:\n",
    "                return Activation(activation)\n",
    "            elif index and type(activation) == list:\n",
    "                return Activation(activation[index])\n",
    "        \n",
    "        return None\n",
    "\n",
    "    # deal with unit\n",
    "    for i, unit in enumerate(unitNumberList):\n",
    "        if i == 0:\n",
    "            layer = Dense(unit, input_dim=input_dim)\n",
    "        else:\n",
    "            layer = Dense(unit)\n",
    "        model.add(layer)\n",
    "        \n",
    "        Act = act(activation, i)\n",
    "        if Act:\n",
    "            model.add(Act)\n",
    "    \n",
    "    model.add(Dense(out_dim))\n",
    "    model.add(Softmax())\n",
    "    \n",
    "    return model"
   ]
  },
  {
   "cell_type": "code",
   "execution_count": 14,
   "metadata": {},
   "outputs": [],
   "source": [
    "model = createSequentialModel([32, 64, 10], 128)"
   ]
  },
  {
   "cell_type": "code",
   "execution_count": null,
   "metadata": {},
   "outputs": [],
   "source": [
    "def createConfigurableCNN(input_dim, output_dim, layer_units, kernel):\n",
    "    "
   ]
  }
 ],
 "metadata": {
  "kernelspec": {
   "display_name": "Python 2",
   "language": "python",
   "name": "python2"
  },
  "language_info": {
   "codemirror_mode": {
    "name": "ipython",
    "version": 2
   },
   "file_extension": ".py",
   "mimetype": "text/x-python",
   "name": "python",
   "nbconvert_exporter": "python",
   "pygments_lexer": "ipython2",
   "version": "2.7.13"
  }
 },
 "nbformat": 4,
 "nbformat_minor": 2
}
